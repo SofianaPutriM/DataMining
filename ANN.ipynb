{
  "nbformat": 4,
  "nbformat_minor": 0,
  "metadata": {
    "colab": {
      "name": "ANN.ipynb",
      "provenance": []
    },
    "kernelspec": {
      "name": "python3",
      "display_name": "Python 3"
    },
    "language_info": {
      "name": "python"
    }
  },
  "cells": [
    {
      "cell_type": "code",
      "metadata": {
        "id": "cI3m2UZ5KvvZ"
      },
      "source": [
        "import numpy as np"
      ],
      "execution_count": 1,
      "outputs": []
    },
    {
      "cell_type": "code",
      "metadata": {
        "id": "8CiWqADvLK5D"
      },
      "source": [
        "def forwardPass(inputs, weight, bias):\n",
        "  w_sum = np.dot(inputs, weight) + bias\n",
        "\n",
        "  # Linier Activation f(x) = x\n",
        "  act = w_sum\n",
        "  return act"
      ],
      "execution_count": 2,
      "outputs": []
    },
    {
      "cell_type": "code",
      "metadata": {
        "id": "G7rSIR_9Loqm"
      },
      "source": [
        "# Pre-Trained Weight & Biases after Training\n",
        "W = np.array([[2.99999928]])\n",
        "b = np.array([1.99999976])"
      ],
      "execution_count": 3,
      "outputs": []
    },
    {
      "cell_type": "code",
      "metadata": {
        "id": "4lMxfVCaL8rP"
      },
      "source": [
        "# Initialize Input Data\n",
        "inputs = np.array([[7], [8], [9], [10]])"
      ],
      "execution_count": 4,
      "outputs": []
    },
    {
      "cell_type": "code",
      "metadata": {
        "id": "h6vjIMaeMKxM"
      },
      "source": [
        "# Output of Output Layer\n",
        "o_out = forwardPass(inputs, W, b)"
      ],
      "execution_count": 5,
      "outputs": []
    },
    {
      "cell_type": "code",
      "metadata": {
        "colab": {
          "base_uri": "https://localhost:8080/"
        },
        "id": "iaB5uKcUMXDU",
        "outputId": "5f5c272d-adbf-4ffa-f8ba-08a11036e583"
      },
      "source": [
        "print('Output Layer Output (Linier)')\n",
        "print('============================')\n",
        "print(o_out, \"\\n\")"
      ],
      "execution_count": 6,
      "outputs": [
        {
          "output_type": "stream",
          "text": [
            "Output Layer Output (Linier)\n",
            "============================\n",
            "[[22.99999472]\n",
            " [25.999994  ]\n",
            " [28.99999328]\n",
            " [31.99999256]] \n",
            "\n"
          ],
          "name": "stdout"
        }
      ]
    },
    {
      "cell_type": "code",
      "metadata": {
        "id": "QygN4p_7Mw3p"
      },
      "source": [
        "def forwardPass(inputs, weight, bias, activation = 'linear'):\n",
        "  w_sum = np.dot(inputs, weight) + bias\n",
        "  if activation is 'relu' :\n",
        "    # Relu Activation f(x) = max(0,x)\n",
        "    act = np.maximum(w_sum, 0)\n",
        "    else :\n",
        "      # Linear Activation f(x) = x\n",
        "      act = w_sum\n",
        "      return act"
      ],
      "execution_count": null,
      "outputs": []
    },
    {
      "cell_type": "code",
      "metadata": {
        "id": "5qjlTGP5N9q_"
      },
      "source": [
        "# Pre-Trained weights & Biases after Training\n",
        "W_H = np.array([[0.00192761, -0.78845304, 0.30310717, 0.44131625, 0.32792646, -0.02451803, 1.43445349, -1.12972116]])\n",
        "b_H = np.array([-0.02657719, -1.15885878, -0.79183501, -0.33550513, -0.23438406, -0.25078532, 0.22305705, 0.80253315])\n",
        "\n",
        "W_o = np.array([[-0.77540326], [0.5030424], [0.37374797], [-0.20287184], [-0.35956827], [-0.54576212], [1.04326093], [0.8857621]])\n",
        "b_o = np.array([0.04351173])\n"
      ],
      "execution_count": 9,
      "outputs": []
    },
    {
      "cell_type": "code",
      "metadata": {
        "id": "oQ_wOQi1QKig"
      },
      "source": [
        "# Initialize Input Data\n",
        "inputs = np.array([[-2], [0], [2]])"
      ],
      "execution_count": 10,
      "outputs": []
    },
    {
      "cell_type": "code",
      "metadata": {
        "id": "6aNRKfWOQUfj"
      },
      "source": [
        "# Output of Hidden Layer\n",
        "h_out = forwardPass(inputs, W_H, b_H, 'relu')"
      ],
      "execution_count": null,
      "outputs": []
    },
    {
      "cell_type": "code",
      "metadata": {
        "id": "70ORrr_HQh2H"
      },
      "source": [
        "print('Hidden Layer Output (ReLU)')\n",
        "print('==========================')\n",
        "print(h_out,\"\\n\")"
      ],
      "execution_count": null,
      "outputs": []
    },
    {
      "cell_type": "code",
      "metadata": {
        "id": "dSYsROm8RAKh"
      },
      "source": [
        "# Output of Output Layer\n",
        "o_out = forwardPass(h_out, W_o, b_o, 'linear')\n",
        "print('Output Layer Output (Linear)')\n",
        "print('============================')\n",
        "print(o_out, \"\\n\")"
      ],
      "execution_count": null,
      "outputs": []
    }
  ]
}